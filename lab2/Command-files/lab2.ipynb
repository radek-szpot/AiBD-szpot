{
 "cells": [
  {
   "cell_type": "code",
   "execution_count": 10,
   "id": "2d5a7382",
   "metadata": {},
   "outputs": [],
   "source": [
    "import pandas as pd"
   ]
  },
  {
   "cell_type": "code",
   "execution_count": 18,
   "id": "8235a2d4",
   "metadata": {},
   "outputs": [],
   "source": [
    "data_org = pd.read_csv('../Original-data/weather.txt')"
   ]
  },
  {
   "cell_type": "code",
   "execution_count": 22,
   "id": "a26eee5f",
   "metadata": {},
   "outputs": [
    {
     "data": {
      "text/html": [
       "<div>\n",
       "<style scoped>\n",
       "    .dataframe tbody tr th:only-of-type {\n",
       "        vertical-align: middle;\n",
       "    }\n",
       "\n",
       "    .dataframe tbody tr th {\n",
       "        vertical-align: top;\n",
       "    }\n",
       "\n",
       "    .dataframe thead th {\n",
       "        text-align: right;\n",
       "    }\n",
       "</style>\n",
       "<table border=\"1\" class=\"dataframe\">\n",
       "  <thead>\n",
       "    <tr style=\"text-align: right;\">\n",
       "      <th></th>\n",
       "      <th>MX000017004195504TMAX  310  I  310  I  310  I  320  I  330  I  320  I  320  I  330  I  330  I  330  I  330  I  320  I  310  I  310  I  320  I  320  I  320  I  310  I  310  I  320  I  320  I  330  I  330  I  330  I  330  I  330  I  330  I  340  I  330  I  320  I-9999</th>\n",
       "    </tr>\n",
       "  </thead>\n",
       "  <tbody>\n",
       "    <tr>\n",
       "      <th>0</th>\n",
       "      <td>MX000017004195504TMIN  150  I  150  I  160  I ...</td>\n",
       "    </tr>\n",
       "    <tr>\n",
       "      <th>1</th>\n",
       "      <td>MX000017004195504PRCP    0  I    0  I    0  I ...</td>\n",
       "    </tr>\n",
       "    <tr>\n",
       "      <th>2</th>\n",
       "      <td>MX000017004195505TMAX  310  I  310  I  310  I ...</td>\n",
       "    </tr>\n",
       "    <tr>\n",
       "      <th>3</th>\n",
       "      <td>MX000017004195505TMIN  200  I  160  I  160  I ...</td>\n",
       "    </tr>\n",
       "    <tr>\n",
       "      <th>4</th>\n",
       "      <td>MX000017004195505PRCP    0  I    0  I    0  I ...</td>\n",
       "    </tr>\n",
       "  </tbody>\n",
       "</table>\n",
       "</div>"
      ],
      "text/plain": [
       "  MX000017004195504TMAX  310  I  310  I  310  I  320  I  330  I  320  I  320  I  330  I  330  I  330  I  330  I  320  I  310  I  310  I  320  I  320  I  320  I  310  I  310  I  320  I  320  I  330  I  330  I  330  I  330  I  330  I  330  I  340  I  330  I  320  I-9999   \n",
       "0  MX000017004195504TMIN  150  I  150  I  160  I ...                                                                                                                                                                                                                           \n",
       "1  MX000017004195504PRCP    0  I    0  I    0  I ...                                                                                                                                                                                                                           \n",
       "2  MX000017004195505TMAX  310  I  310  I  310  I ...                                                                                                                                                                                                                           \n",
       "3  MX000017004195505TMIN  200  I  160  I  160  I ...                                                                                                                                                                                                                           \n",
       "4  MX000017004195505PRCP    0  I    0  I    0  I ...                                                                                                                                                                                                                           "
      ]
     },
     "execution_count": 22,
     "metadata": {},
     "output_type": "execute_result"
    }
   ],
   "source": [
    "data_org"
   ]
  },
  {
   "cell_type": "code",
   "execution_count": 41,
   "id": "ecf6f9a8",
   "metadata": {},
   "outputs": [
    {
     "name": "stdout",
     "output_type": "stream",
     "text": [
      "[['', '195504TMAX'], '310', '310', '310', '320', '330', '320', '320', '330', '330', '330', '330', '320', '310', '310', '320', '320', '320', '310', '310', '320', '320', '330', '330', '330', '330', '330', '330', '340', '330', '320', 'I-9999']\n"
     ]
    }
   ],
   "source": [
    "with open('../Original-data/weather.txt') as f:\n",
    "    lines = f.readlines()\n",
    "for line in lines:\n",
    "    # usun spacje zrob tablice samych elementow\n",
    "    line_without_space = line.split()\n",
    "    for elem in line_without_space:\n",
    "        # usun elementy \"I\"\n",
    "        if elem == \"I\":\n",
    "            line_without_space.remove(\"I\")\n",
    "    # jesli za duzo badz za malo danych - dane uszkodzone\n",
    "    if len(line_without_space) != 32:\n",
    "        lines.remove(line_without_space)\n",
    "    # podzial pierwszego elementu na id, rok, miesiąc, nazwa zmiennych\n",
    "    line_without_space[0] = line_without_space[0].split(\"MX000017004\")\n",
    "    print(line_without_space)\n",
    "    break"
   ]
  }
 ],
 "metadata": {
  "kernelspec": {
   "display_name": "Python 3",
   "language": "python",
   "name": "python3"
  },
  "language_info": {
   "codemirror_mode": {
    "name": "ipython",
    "version": 3
   },
   "file_extension": ".py",
   "mimetype": "text/x-python",
   "name": "python",
   "nbconvert_exporter": "python",
   "pygments_lexer": "ipython3",
   "version": "3.8.8"
  }
 },
 "nbformat": 4,
 "nbformat_minor": 5
}
